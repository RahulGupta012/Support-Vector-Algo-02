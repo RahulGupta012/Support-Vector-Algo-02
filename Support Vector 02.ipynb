{
 "cells": [
  {
   "cell_type": "markdown",
   "id": "76e60895-cccf-43fb-a011-60c0790912d0",
   "metadata": {},
   "source": [
    "# Support Vector 02"
   ]
  },
  {
   "cell_type": "markdown",
   "id": "f30c4539-fbd2-4211-a1dc-abe3dff3a8b5",
   "metadata": {},
   "source": [
    "________________________________________________________"
   ]
  },
  {
   "cell_type": "markdown",
   "id": "a0490d6c-3ec1-40cb-9ff2-2ec76f5c12ab",
   "metadata": {},
   "source": [
    "# Q1. What is the relationship between polynomial functions and kernel functions in machine learning algorithms?"
   ]
  },
  {
   "cell_type": "markdown",
   "id": "741f297a-498b-4879-ae81-d85f4155d226",
   "metadata": {},
   "source": [
    "the polynomial kernel is a type of kernel function that implicitly performs a polynomial transformation of the input features.In machine learning, especially in the context of Support Vector Machines (SVMs) and kernelized methods, polynomial functions are often used as kernel functions to transform input data into a higher-dimensional space. The relationship between polynomial functions and kernel functions lies in the concept of the \"kernel trick.\" Which have discussed in Support Vector 1."
   ]
  },
  {
   "cell_type": "markdown",
   "id": "41a9c009-91a2-4f46-99ac-5d9baac20c64",
   "metadata": {},
   "source": [
    "# Q2. How can we implement an SVM with a polynomial kernel in Python using Scikit-learn?"
   ]
  },
  {
   "cell_type": "markdown",
   "id": "26e8024b-269d-4626-8fe3-804e18aeb2f2",
   "metadata": {},
   "source": [
    "In sklearn for implementing the SVM with a polynomial kernel , we have to do certain steps :\n",
    "\n",
    "- After getting the data set, doing important feature Engeenearing (if needed) , scalind the data at standard simplest form.\n",
    "- defining the X and Y varible\n",
    "- Dividing the data into train and test data.\n",
    "- Training the data by svc model , it is important to note that while training the data, when we creating the classifier , then **in the perameter we need to define the kernal as kernel='poly' and also the Degree**, for polynomial classification of svm.\n",
    "- Fit the data into classifier\n",
    "- making predict model\n",
    "- Evaluating the accuracy and other metrics by the y_pred and y_test.\n"
   ]
  },
  {
   "cell_type": "markdown",
   "id": "2b063998-feac-470a-80b4-9b0d91181ee4",
   "metadata": {},
   "source": [
    "# Q3. How does increasing the value of epsilon affect the number of support vectors in SVR?"
   ]
  },
  {
   "cell_type": "markdown",
   "id": "3b197b96-fe83-4de7-875e-7d284c2c97a2",
   "metadata": {},
   "source": [
    "In Support Vector Regression (SVR), the parameter epsilon (ε) is a critical hyperparameter that determines the width of the epsilon-tube around the predicted values within which no penalty is associated with errors.\n",
    "\n",
    "**Smaller Epsilon = less margin = distance between the plane must be less** :\n",
    "The SVR model becomes more sensitive to errors, and it aims to fit the data more precisely.\n",
    "\n",
    "**Larger Epsilon = Wide Margin = Distance between the plane must be large** :\n",
    "The SVR model becomes less sensitive to small errors and allows more flexibility in fitting the data.\n"
   ]
  },
  {
   "cell_type": "markdown",
   "id": "750f413d-9669-4395-b64b-222dd19d4cc0",
   "metadata": {},
   "source": [
    "# Q4. How does the choice of kernel function, C parameter, epsilon parameter, and gamma parameter affect the performance of Support Vector Regression (SVR)? "
   ]
  },
  {
   "cell_type": "markdown",
   "id": "73e7e658-3027-4340-8265-e5d1bdd04a4b",
   "metadata": {},
   "source": [
    "The performance of Support Vector Regression (SVR) in terms of accuracy and generalization depends on various hyperparameters. The choice of the kernel depends on the nature of the relationships in the data. RBF kernels are often effective but may require tuning of the gamma parameter"
   ]
  },
  {
   "cell_type": "code",
   "execution_count": 13,
   "id": "680b69ae-adc7-4c7d-8324-37829ccb565b",
   "metadata": {},
   "outputs": [],
   "source": [
    "# Import the necessary libraries and load the dataset\n",
    "\n",
    "import pandas as pd\n",
    "import seaborn as sns\n",
    "import matplotlib.pyplot as plt\n"
   ]
  },
  {
   "cell_type": "code",
   "execution_count": 5,
   "id": "2dc1039c-5092-4efa-83c5-65d06dc4f0f9",
   "metadata": {},
   "outputs": [],
   "source": [
    "from sklearn.datasets import load_breast_cancer\n",
    "cancer = load_breast_cancer()\n",
    "x, y = cancer.data, cancer.target"
   ]
  },
  {
   "cell_type": "code",
   "execution_count": 6,
   "id": "b575c9b9-2452-4d03-9313-5a2f94ca6046",
   "metadata": {},
   "outputs": [],
   "source": [
    "#  Split the dataset into training and testing set\n",
    "\n",
    "from sklearn.model_selection import train_test_split\n",
    "x_train , x_test, y_train, y_test = train_test_split( x,y , test_size=0.33 , random_state= 42)"
   ]
  },
  {
   "cell_type": "code",
   "execution_count": 22,
   "id": "75c4b33c-0831-4df4-a725-62593ce7bba3",
   "metadata": {},
   "outputs": [
    {
     "name": "stdout",
     "output_type": "stream",
     "text": [
      "0.9521276595744681\n",
      "              precision    recall  f1-score   support\n",
      "\n",
      "           0       0.88      0.98      0.93        60\n",
      "           1       0.99      0.94      0.96       128\n",
      "\n",
      "    accuracy                           0.95       188\n",
      "   macro avg       0.94      0.96      0.95       188\n",
      "weighted avg       0.96      0.95      0.95       188\n",
      "\n"
     ]
    }
   ],
   "source": [
    "# Create an instance of the SVC classifier and train it on the training data.\n",
    "\n",
    "from sklearn.svm import SVC\n",
    "svc= SVC()\n",
    "\n",
    "svc.fit(x_train , y_train)\n",
    "\n",
    "y_pred= svc.predict(x_test)\n",
    "\n",
    "#Evaluate the performance of the classifier using any metric of your choice\n",
    "\n",
    "from sklearn.metrics import accuracy_score,classification_report\n",
    "print(accuracy_score(y_pred , y_test))\n",
    "print (classification_report(y_pred , y_test))\n"
   ]
  },
  {
   "cell_type": "code",
   "execution_count": 11,
   "id": "0cced99d-2d74-4f39-8d32-8fb5f59d856d",
   "metadata": {},
   "outputs": [],
   "source": [
    "# Tune the hyperparameters of the SVC classifier using GridSearchCV "
   ]
  },
  {
   "cell_type": "code",
   "execution_count": 48,
   "id": "812ca41d-c686-411d-b727-c1273cc31ae9",
   "metadata": {},
   "outputs": [
    {
     "data": {
      "text/plain": [
       "{'C': 1, 'gamma': 1}"
      ]
     },
     "execution_count": 48,
     "metadata": {},
     "output_type": "execute_result"
    }
   ],
   "source": [
    "from sklearn.model_selection import GridSearchCV\n",
    "\n",
    "param_grid = { 'C': [1 , 2, 3 ,4 ],\n",
    "              'gamma' : [1, 2, 3 , 1.25]\n",
    "}\n",
    "\n",
    "gridsearch = GridSearchCV(svc , param_grid , cv=5)\n",
    "gridsearch.fit(x_train , y_train)\n",
    "gridsearch.best_params_"
   ]
  },
  {
   "cell_type": "code",
   "execution_count": 49,
   "id": "02b2dcd1-09aa-4882-a308-d499fa5a538e",
   "metadata": {},
   "outputs": [
    {
     "data": {
      "text/plain": [
       "0.6436170212765957"
      ]
     },
     "execution_count": 49,
     "metadata": {},
     "output_type": "execute_result"
    }
   ],
   "source": [
    "# Calculating the Accuracy\n",
    "y_pred= gridsearch.predict(x_test)\n",
    "accuracy_score(y_pred , y_test)\n"
   ]
  }
 ],
 "metadata": {
  "kernelspec": {
   "display_name": "Python 3 (ipykernel)",
   "language": "python",
   "name": "python3"
  },
  "language_info": {
   "codemirror_mode": {
    "name": "ipython",
    "version": 3
   },
   "file_extension": ".py",
   "mimetype": "text/x-python",
   "name": "python",
   "nbconvert_exporter": "python",
   "pygments_lexer": "ipython3",
   "version": "3.10.8"
  }
 },
 "nbformat": 4,
 "nbformat_minor": 5
}
